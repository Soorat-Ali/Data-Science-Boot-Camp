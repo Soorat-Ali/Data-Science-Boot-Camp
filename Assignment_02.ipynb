{
  "cells": [
    {
      "cell_type": "markdown",
      "metadata": {
        "id": "bb0O0xtk1v9t"
      },
      "source": [
        "## Task 01:\n",
        "\n",
        "Print Your Name with your Father name and Date of birth using suitable escape sequence charactor\n",
        "\n"
      ]
    },
    {
      "cell_type": "code",
      "execution_count": 9,
      "metadata": {
        "id": "U7LLGIkO2Ixa"
      },
      "outputs": [
        {
          "name": "stdout",
          "output_type": "stream",
          "text": [
            "Name : \"Soorat Ali\"\n",
            "Father Name : \"Mahtab Ali\"\n",
            "Date of Birth : \"08-September-2005\"\n"
          ]
        }
      ],
      "source": [
        "print(\"Name\" , '\"Soorat Ali\"' , sep=\" : \") #printing name\n",
        "print(\"Father Name\" , '\"Mahtab Ali\"' , sep=\" : \") #printing fatherName\n",
        "print(\"Date of Birth\" , '\"08-September-2005\"' , sep=\" : \") #printing Date of Birth"
      ]
    },
    {
      "cell_type": "markdown",
      "metadata": {
        "id": "TU-xwiLV2NgB"
      },
      "source": [
        "# Task 02:\n",
        "\n",
        "Write your small bio using variables and print it using print function"
      ]
    },
    {
      "cell_type": "code",
      "execution_count": 19,
      "metadata": {
        "id": "Dw8w3rwl2wDB"
      },
      "outputs": [
        {
          "name": "stdout",
          "output_type": "stream",
          "text": [
            "Hello,\n",
            "I'm Soorat Ali S/O Mahtab Ali,\n",
            "an 18 years Software Engineering Student at Mehran University of Engineering and Technology Jamshoro,Sindh,Pakistan\n"
          ]
        }
      ],
      "source": [
        "Name = \"Soorat Ali\"\n",
        "FatherName = \"Mahtab Ali\"\n",
        "Age = 18\n",
        "Role = \"Student\"\n",
        "Department = \"Software Engineering\"\n",
        "Institute = \"Mehran University of Engineering and Technology Jamshoro,Sindh,Pakistan\"\n",
        "\n",
        "Bio=f\"Hello,\\nI'm {Name} S/O {FatherName},\\nan {Age} years {Department} {Role} at {Institute}\"\n",
        "print(Bio)"
      ]
    },
    {
      "cell_type": "markdown",
      "metadata": {
        "id": "F2lcZuDe2ztv"
      },
      "source": [
        "# Task 03:\n",
        "\n",
        "Write a program in which use all the operators we can use in Python"
      ]
    },
    {
      "cell_type": "code",
      "execution_count": null,
      "metadata": {
        "id": "lEJhzsXh3e7K"
      },
      "outputs": [],
      "source": [
        "a = float(input(\"Enter First Number : \"))\n",
        "b = float(input(\"Enter Second Number : \"))\n",
        "print(\"First Number : \" , a)\n",
        "print(\"Second Number : \" , b)\n",
        "print(\"\\nAddition : \" , a + b)\n",
        "print(\"Subtraction : \" , a - b)\n",
        "print(\"Multiplication : \" , a * b)\n",
        "print(\"Divisionion : \" , a / b)\n",
        "print(\"Reminder : \" , a % b)"
      ]
    },
    {
      "cell_type": "markdown",
      "metadata": {
        "id": "i4N14TJU3l7n"
      },
      "source": [
        "# Task 04:\n",
        "\n",
        "\n",
        "1. Mention Marks of English , Islamiat and Maths out of 100 in 3 different variables\n",
        "\n",
        "2. Mention Variable of Total Marks and assign 300 to it\n",
        "\n",
        "3. Calculate Percentage"
      ]
    },
    {
      "cell_type": "code",
      "execution_count": 2,
      "metadata": {
        "id": "nxojzvRg5PP4"
      },
      "outputs": [
        {
          "name": "stdout",
          "output_type": "stream",
          "text": [
            "English Marks :  75.0\n",
            "Islmait Marks :  75.0\n",
            "Maths Marks :  75.0\n",
            "\n",
            "Obtained Marks :  225.0\n",
            "Total Marks :  300\n",
            "\n",
            "Percentage :  75.0 %\n"
          ]
        }
      ],
      "source": [
        "totalMarks = 300\n",
        "englishMarks = float(input(\"Enter English Marks : \"))\n",
        "islmiatMarks = float(input(\"Enter Islmiat Marks : \"))\n",
        "mathsMarks = float(input(\"Enter Maths Marks : \"))\n",
        "obtainedMarks = englishMarks + islmiatMarks + mathsMarks\n",
        "percentage = (obtainedMarks/totalMarks)*100\n",
        "print(\"English Marks : \" , englishMarks)\n",
        "print(\"Islmait Marks : \" , islmiatMarks)\n",
        "print(\"Maths Marks : \" , mathsMarks)\n",
        "print(\"\\nObtained Marks : \" , obtainedMarks)\n",
        "print(\"Total Marks : \" , totalMarks)\n",
        "print(\"\\nPercentage : \" , percentage , \"%\")"
      ]
    }
  ],
  "metadata": {
    "colab": {
      "provenance": []
    },
    "kernelspec": {
      "display_name": "Python 3",
      "name": "python3"
    },
    "language_info": {
      "codemirror_mode": {
        "name": "ipython",
        "version": 3
      },
      "file_extension": ".py",
      "mimetype": "text/x-python",
      "name": "python",
      "nbconvert_exporter": "python",
      "pygments_lexer": "ipython3",
      "version": "3.11.8"
    }
  },
  "nbformat": 4,
  "nbformat_minor": 0
}
