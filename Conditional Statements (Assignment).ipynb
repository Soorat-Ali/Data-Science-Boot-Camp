{
 "cells": [
  {
   "cell_type": "markdown",
   "metadata": {},
   "source": [
    "1) A company decided to give bonus of 5% to employee if his/her year of service is more than 5 years.\n",
    "Ask user for their salary and year of service and print the net bonus amount."
   ]
  },
  {
   "cell_type": "code",
   "execution_count": null,
   "metadata": {},
   "outputs": [],
   "source": [
    "salary = float(input(\"Enter  Your Salary : \"))\n",
    "yearOfService = float(input(\"Enter Your Year of Service : \"))\n",
    "if yearOfService>=5:\n",
    "    bonus = salary+(salary*0.05)\n",
    "    print(bonus)\n",
    "elif yearOfService<5:\n",
    "    print(salary)"
   ]
  },
  {
   "cell_type": "markdown",
   "metadata": {},
   "source": [
    "\n",
    "2) Write a program to check whether a person is eligible for voting or not. (accept age from user) if age is greater than 17 eligible otherwise not eligible"
   ]
  },
  {
   "cell_type": "code",
   "execution_count": null,
   "metadata": {},
   "outputs": [],
   "source": [
    "age = int(input(\"Enter Your Age : \"))\n",
    "if age<17:\n",
    "    print(\"You are not Eligible for vote\")\n",
    "elif age>=18:\n",
    "    print(\"You are Eligible for vote\")"
   ]
  },
  {
   "cell_type": "markdown",
   "metadata": {},
   "source": [
    "\n",
    "3) Write a program to check whether a number entered by user is even or odd."
   ]
  },
  {
   "cell_type": "code",
   "execution_count": null,
   "metadata": {},
   "outputs": [],
   "source": [
    "number = float(input(\"Enter a Number : \"))\n",
    "if number%2==0:\n",
    "    print(\"Number is Even\")\n",
    "elif number%1==0:\n",
    "    print(\"Number is Odd\")"
   ]
  },
  {
   "cell_type": "markdown",
   "metadata": {},
   "source": [
    "4) Write a program to check whether a number is divisible by 7 or not.\n",
    "Show Answer"
   ]
  },
  {
   "cell_type": "code",
   "execution_count": null,
   "metadata": {},
   "outputs": [],
   "source": [
    "number = float(input(\"Enter any Number : \"))\n",
    "if number%7==0:\n",
    "    print(\"Number is divisible by 7\")\n",
    "else :\n",
    "    print(\"Number is not divisible by 7\")"
   ]
  },
  {
   "cell_type": "markdown",
   "metadata": {},
   "source": [
    "5) Write a program to display \n",
    "\"Hello\" if a number entered by user is a multiple of five , otherwise print \"Bye\"."
   ]
  },
  {
   "cell_type": "code",
   "execution_count": null,
   "metadata": {},
   "outputs": [],
   "source": [
    "number = float(input(\"Enter any Number : \"))\n",
    "if number%5==0:\n",
    "    print(\"Hello\")\n",
    "else :\n",
    "    print(\"Bye\")"
   ]
  },
  {
   "cell_type": "markdown",
   "metadata": {},
   "source": [
    "7) Write a program to display the last digit of a number.\n"
   ]
  },
  {
   "cell_type": "code",
   "execution_count": null,
   "metadata": {},
   "outputs": [],
   "source": [
    "number =int(input(\"Enter a Number : \"))\n",
    "lastDigit=number%10\n",
    "if lastDigit==0:\n",
    "    print(\"The Last Digit is Zero\")\n",
    "elif lastDigit==1:\n",
    "    print(\"The Last Digit is One\")\n",
    "elif lastDigit==2:\n",
    "    print(\"The Last Digit is Two\")\n",
    "elif lastDigit==3:\n",
    "    print(\"The Last Digit is Three\")\n",
    "elif lastDigit==4:\n",
    "    print(\"The Last Digit is Four\")\n",
    "elif lastDigit==5:\n",
    "    print(\"The Last Digit is Five\")\n",
    "elif lastDigit==6:\n",
    "    print(\"The Last Digit is Six\")\n",
    "elif lastDigit==7:\n",
    "    print(\"The Last Digit is Seven\")\n",
    "elif lastDigit==8:\n",
    "    print(\"The Last Digit is Eight\")\n",
    "elif lastDigit==9:\n",
    "    print(\"The Last Digit is Nine\")"
   ]
  },
  {
   "cell_type": "markdown",
   "metadata": {},
   "source": [
    "9) Take values of length and breadth of a rectangle from user and print if it is square or rectangle."
   ]
  },
  {
   "cell_type": "code",
   "execution_count": null,
   "metadata": {},
   "outputs": [],
   "source": [
    "length = float(input(\"Enter Length : \"))\n",
    "breadth = float(input(\"Enter Breadth : \"))\n",
    "if length==breadth:\n",
    "    print(\"Square\")\n",
    "elif length!=breadth:\n",
    "    print(\"Rectangle\")"
   ]
  },
  {
   "cell_type": "markdown",
   "metadata": {},
   "source": [
    "10) Take two int values from user and print greatest among them."
   ]
  },
  {
   "cell_type": "code",
   "execution_count": null,
   "metadata": {},
   "outputs": [],
   "source": [
    "number1 = int(input(\"Enter a Number : \"))\n",
    "number2 = int(input(\"Enter a Number : \"))\n",
    "if number1>number2:\n",
    "    print(\"Greatest : \" , number1) \n",
    "elif number1<number2:\n",
    "    print(\"Greatest : \" , number2)\n",
    "else:\n",
    "    print(\"Equal\")"
   ]
  },
  {
   "cell_type": "markdown",
   "metadata": {},
   "source": [
    "11) A shop will give discount of 10% if the cost of purchased quantity is more than 1000.\n",
    "Ask user for quantity\n",
    "Suppose, one unit will cost 100.\n",
    "Judge and print total cost for user."
   ]
  },
  {
   "cell_type": "code",
   "execution_count": null,
   "metadata": {},
   "outputs": [],
   "source": [
    "quantity = float(input(\"Enter Quantity : \"))\n",
    "unit=quantity/10\n",
    "if quantity>1000:\n",
    "    discount=quantity-(quantity*0.10)\n",
    "    print(\"Total Cost after Discount : \" , discount)"
   ]
  },
  {
   "cell_type": "markdown",
   "metadata": {},
   "source": [
    "12) A school has following rules for grading system:\n",
    "\n",
    "a. Below 25 - F\n",
    "\n",
    "b. 25 to 45 - E\n",
    "\n",
    "c. 45 to 50 - D\n",
    "\n",
    "d. 50 to 60 - C\n",
    "\n",
    "e. 60 to 80 - B\n",
    "\n",
    "f. Above 80 - A\n",
    "\n",
    "Ask user to enter marks and print the corresponding grade."
   ]
  },
  {
   "cell_type": "code",
   "execution_count": null,
   "metadata": {},
   "outputs": [],
   "source": [
    "marks = float(input(\"Enter Your Marks\"))\n",
    "if marks<25:\n",
    "    print(\"Grade : F\")\n",
    "elif marks<45:\n",
    "    print(\"Grade : E\")\n",
    "elif marks<50:\n",
    "    print(\"Grade : D\")\n",
    "elif marks<60:\n",
    "    print(\"Grade : C\")\n",
    "elif marks<80:\n",
    "    print(\"Grade : B\")\n",
    "elif marks>=80:\n",
    "    print(\"Grade : A\")"
   ]
  },
  {
   "cell_type": "markdown",
   "metadata": {},
   "source": [
    "14)A student will not be allowed to sit in exam if his/her attendence is less than 75%.\n",
    "\n",
    "Take following input from user\n",
    "\n",
    "Number of classes held\n",
    "\n",
    "Number of classes attended.\n",
    "\n",
    "And print\n",
    "\n",
    "percentage of class attended\n",
    "\n",
    "Is student is allowed to sit in exam or not.\n"
   ]
  },
  {
   "cell_type": "code",
   "execution_count": null,
   "metadata": {},
   "outputs": [],
   "source": [
    "numberOfClassesHeld = int(input(\"Enter Number of Classes Held : \"))\n",
    "numberOfClassesAttended = int(input(\"Enter Number of CLasses Attended : \"))\n",
    "percentage = ((numberOfClassesAttended/numberOfClassesHeld)*100)\n",
    "print(\"Number Of Classes Held : \" , numberOfClassesHeld)\n",
    "print(\"Number of Classes Attended : \" , numberOfClassesAttended)\n",
    "print(\"Attendance Percentage : \" , percentage , \"%\")\n",
    "if percentage>=75:\n",
    "    print(\"Student is Allowed to Sit in Exam\")\n",
    "else:\n",
    "    print(\"Student is not Allowed to Sit in Exam\")"
   ]
  },
  {
   "cell_type": "markdown",
   "metadata": {},
   "source": [
    "15) Modify the above question to allow student to sit if he/she has medical cause. Ask user if he/she has medical cause or not ( 'Y' or 'N' ) and print accordingly."
   ]
  },
  {
   "cell_type": "code",
   "execution_count": null,
   "metadata": {},
   "outputs": [],
   "source": [
    "medicalCause = input(\"Enter Medical Cause(Y/N) : \")\n",
    "if medicalCause==\"Y\":\n",
    "    print(\"Student is Allowed to Sit in Exam\")\n",
    "else:\n",
    "    print(\"Student is not Allowed to Sit in Exam\")"
   ]
  },
  {
   "cell_type": "markdown",
   "metadata": {},
   "source": [
    "16) Write a program to check if a year is leap year or not.\n",
    "\n",
    "If a year is divisible by 4 then it is leap year but if the year is century year like 2000, 1900, 2100 then it must be divisible by 400."
   ]
  },
  {
   "cell_type": "code",
   "execution_count": null,
   "metadata": {},
   "outputs": [],
   "source": [
    "year = int(input(\"Enter Year : \"))\n",
    "if year%4==0:\n",
    "    print(\"Leap Year\")\n",
    "else:\n",
    "    print(\"Not a Leap Year\")"
   ]
  },
  {
   "cell_type": "markdown",
   "metadata": {},
   "source": [
    "17) Ask user to enter age, gender ( M or F ), marital status ( Y or N ) and then using following rules print their place of service.\n",
    "\n",
    "if employee is female, then she will work only in urban areas.\n",
    "\n",
    "if employee is a male and age is in between 20 to 40 then he may work in anywhere\n",
    "\n",
    "if employee is male and age is in between 40 t0 60 then he will work in urban areas only.\n",
    "\n",
    "And any other input of age should print \"ERROR\""
   ]
  },
  {
   "cell_type": "code",
   "execution_count": null,
   "metadata": {},
   "outputs": [],
   "source": [
    "age = int(input(\"Enter Your Age : \"))\n",
    "gender = input(\"Enter Gender(M/F) : \")\n",
    "maritalStatus = input(\"Enter Marital Status(Y/N) : \")\n",
    "print(\"Age : \" , age)\n",
    "print(\"Gender : \" , gender)\n",
    "print(\"Marital Status : \" , maritalStatus)\n",
    "\n",
    "if gender==\"F\":\n",
    "    print(\"She Will Work in Urban Areas\")\n",
    "elif gender==\"M\":\n",
    "    if age<20:\n",
    "        print(\"Error\")\n",
    "    elif age>60:\n",
    "        print(\"Error\")\n",
    "    elif age>20:\n",
    "        print(\"He May Work Anywhere\")\n",
    "    elif age>40:\n",
    "        print(\"He Will Work in Urban Areas\")\n",
    "else:\n",
    "    print(\"Invalid Input\")"
   ]
  },
  {
   "cell_type": "markdown",
   "metadata": {},
   "source": [
    "6) Write a program to calculate the electricity bill (accept number of unit from user) according to the following criteria :\n",
    "     Unit                                                     Price  \n",
    "uptp 100 units                                             no charge\n",
    "Next 200 units                                              Rs 5 per unit\n",
    "After 200 units                                             Rs 10 per unit\n",
    "(For example if input unit is 350 than total bill amount is Rs.3500\n",
    "(For example if input unit is 97 than total bill amount is Rs.0\n",
    "(For example if input unit is 150 than total bill amount is Rs.750"
   ]
  },
  {
   "cell_type": "code",
   "execution_count": null,
   "metadata": {},
   "outputs": [],
   "source": [
    "numberOfUnit = float(input(\"Enter Number Of Unit Used : \"))\n",
    "bill=0\n",
    "if numberOfUnit<=100:\n",
    "    print(\"No Charge\\nBill : \" , bill)\n",
    "elif numberOfUnit<=200:\n",
    "    print(\"Rs.5 per Unit\\nBill : \" , numberOfUnit*5)\n",
    "elif numberOfUnit>200:\n",
    "    print(\"Rs. 10 per Unit\\nBill : \" , numberOfUnit*10)"
   ]
  },
  {
   "cell_type": "markdown",
   "metadata": {},
   "source": [
    "13) Take input of age of 3 people by user and determine oldest and youngest among them."
   ]
  },
  {
   "cell_type": "code",
   "execution_count": null,
   "metadata": {},
   "outputs": [],
   "source": [
    "age1 = int(input(\"Enter Age of First Person : \"))\n",
    "age2 = int(input(\"Enter Age of Second Person : \"))\n",
    "age3 = int(input(\"Enter Age of Third Person : \"))\n",
    "print(\"Age\\nAge 1 : \" , age1)\n",
    "print(\"Age 2 : \" , age2)\n",
    "print(\"Age 3 : \" , age3)\n",
    "if age1>age2 and age1>age3:\n",
    "    print(\"Oldest Age 1: \" , age1)\n",
    "elif age2>age1 and age2>age3:\n",
    "    print(\"Oldest Age 2 : \" , age2)\n",
    "elif age3>age1 and age3>age2:\n",
    "    print(\"Oldest Age 3 : \" , age3)\n",
    "if age1<age2 and age1<age3:\n",
    "    print(\"Youngest Age 1: \" , age1)\n",
    "elif age2<age1 and age2<age3:\n",
    "    print(\"Youngest Age 2: \" , age2)\n",
    "elif age3<age1 and age3<age2:\n",
    "    print(\"Youngest Age 3: \" , age3)"
   ]
  }
 ],
 "metadata": {
  "kernelspec": {
   "display_name": "Python 3 (ipykernel)",
   "language": "python",
   "name": "python3"
  },
  "language_info": {
   "codemirror_mode": {
    "name": "ipython",
    "version": 3
   },
   "file_extension": ".py",
   "mimetype": "text/x-python",
   "name": "python",
   "nbconvert_exporter": "python",
   "pygments_lexer": "ipython3",
   "version": "3.11.9"
  }
 },
 "nbformat": 4,
 "nbformat_minor": 2
}
